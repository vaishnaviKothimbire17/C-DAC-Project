{
 "cells": [
  {
   "cell_type": "code",
   "execution_count": 5,
   "id": "eb5590f7-eb8f-4857-b577-51beb0e6dcdb",
   "metadata": {},
   "outputs": [],
   "source": [
    "import cv2\n",
    "import numpy as np\n",
    "\n",
    "# Load the image\n",
    "image_path = 'C:/Users/Administrator/Desktop/photos/crack1.jpg'  # Replace with your image path\n",
    "image = cv2.imread(image_path)\n",
    "\n",
    "# Convert to grayscale\n",
    "gray = cv2.cvtColor(image, cv2.COLOR_BGR2GRAY)\n",
    "\n",
    "# Apply Gaussian blur to reduce noise\n",
    "blurred = cv2.GaussianBlur(gray, (5, 5), 0)\n",
    "\n",
    "# Use Canny edge detector to detect edges\n",
    "edges = cv2.Canny(blurred, 50, 150)\n",
    "\n",
    "# Find contours (cracks) in the edges detected\n",
    "contours, _ = cv2.findContours(edges, cv2.RETR_EXTERNAL, cv2.CHAIN_APPROX_SIMPLE)\n",
    "\n",
    "# Draw contours on the original image\n",
    "crack_image = image.copy()\n",
    "cv2.drawContours(crack_image, contours, -1, (0, 255, 0), 2)\n",
    "\n",
    "# Display the results\n",
    "cv2.imshow('Original Image', image)\n",
    "cv2.imshow('Edges', edges)\n",
    "cv2.imshow('Detected Cracks', crack_image)\n",
    "\n",
    "cv2.waitKey(0)\n",
    "cv2.destroyAllWindows()\n"
   ]
  },
  {
   "cell_type": "code",
   "execution_count": 8,
   "id": "2eb19c44-11db-4859-8ebb-f006b8abf0d2",
   "metadata": {},
   "outputs": [],
   "source": [
    "import cv2\n",
    "import numpy as np\n",
    "import matplotlib.pyplot as plt\n",
    "image_path ='C:/Users/Administrator/Desktop/photos/spalling.jpg'\n",
    "\n",
    "image = cv2.imread(image_path)\n",
    "\n",
    "# Convert to grayscale\n",
    "gray = cv2.cvtColor(image, cv2.COLOR_BGR2GRAY)\n",
    "\n",
    "# Apply Gaussian blur to reduce noise\n",
    "blurred = cv2.GaussianBlur(gray, (5, 5), 0)\n",
    "\n",
    "# Use Laplacian operator to detect edges and texture irregularities\n",
    "laplacian = cv2.Laplacian(blurred, cv2.CV_64F)\n",
    "abs_laplacian = np.absolute(laplacian)\n",
    "laplacian = np.uint8(abs_laplacian)\n",
    "\n",
    "# Threshold to binary image to highlight spalling areas\n",
    "_, thresh = cv2.threshold(laplacian, 30, 255, cv2.THRESH_BINARY)\n",
    "\n",
    "# Find contours (spalling areas) in the thresholded image\n",
    "contours, _ = cv2.findContours(thresh, cv2.RETR_EXTERNAL, cv2.CHAIN_APPROX_SIMPLE)\n",
    "\n",
    "# Draw contours on the original image\n",
    "spalling_image = image.copy()\n",
    "cv2.drawContours(spalling_image, contours, -1, (0, 255, 0), 2)\n",
    "\n",
    "# Display the results\n",
    "cv2.imshow('Original Image', image)\n",
    "cv2.imshow('Laplacian of Gaussian', laplacian)\n",
    "cv2.imshow('Thresholded Image', thresh)\n",
    "cv2.imshow('Detected Spalling Areas', spalling_image)\n",
    "plt.imsave('spalling_image.png',spalling_image)\n",
    "\n",
    "cv2.waitKey(0)\n",
    "cv2.destroyAllWindows()\n",
    "\n",
    "\n",
    "\n"
   ]
  },
  {
   "cell_type": "code",
   "execution_count": null,
   "id": "e81e1488-5a50-4d26-ac5d-e73671483a44",
   "metadata": {},
   "outputs": [],
   "source": []
  }
 ],
 "metadata": {
  "kernelspec": {
   "display_name": "Python 3 (ipykernel)",
   "language": "python",
   "name": "python3"
  },
  "language_info": {
   "codemirror_mode": {
    "name": "ipython",
    "version": 3
   },
   "file_extension": ".py",
   "mimetype": "text/x-python",
   "name": "python",
   "nbconvert_exporter": "python",
   "pygments_lexer": "ipython3",
   "version": "3.11.5"
  },
  "widgets": {
   "application/vnd.jupyter.widget-state+json": {
    "state": {},
    "version_major": 2,
    "version_minor": 0
   }
  }
 },
 "nbformat": 4,
 "nbformat_minor": 5
}
